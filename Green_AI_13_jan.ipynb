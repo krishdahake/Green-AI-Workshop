{
  "nbformat": 4,
  "nbformat_minor": 0,
  "metadata": {
    "colab": {
      "provenance": [],
      "authorship_tag": "ABX9TyPkn9CJ1Gg/rJXdBokrRqWs",
      "include_colab_link": true
    },
    "kernelspec": {
      "name": "python3",
      "display_name": "Python 3"
    },
    "language_info": {
      "name": "python"
    }
  },
  "cells": [
    {
      "cell_type": "markdown",
      "metadata": {
        "id": "view-in-github",
        "colab_type": "text"
      },
      "source": [
        "<a href=\"https://colab.research.google.com/github/krishdahake/Green-AI-Workshop/blob/main/Green_AI_13_jan.ipynb\" target=\"_parent\"><img src=\"https://colab.research.google.com/assets/colab-badge.svg\" alt=\"Open In Colab\"/></a>"
      ]
    },
    {
      "cell_type": "markdown",
      "source": [
        "13 Jan 2025"
      ],
      "metadata": {
        "id": "Rup33lB7G9Q6"
      }
    },
    {
      "cell_type": "code",
      "source": [
        "print('hello')\n",
        "'''hellooo'''"
      ],
      "metadata": {
        "colab": {
          "base_uri": "https://localhost:8080/",
          "height": 53
        },
        "id": "loSwTr8NDLUJ",
        "outputId": "187b27bc-9453-460d-dac5-e5ad46d5c376"
      },
      "execution_count": null,
      "outputs": [
        {
          "output_type": "stream",
          "name": "stdout",
          "text": [
            "hello\n"
          ]
        },
        {
          "output_type": "execute_result",
          "data": {
            "text/plain": [
              "'hellooo'"
            ],
            "application/vnd.google.colaboratory.intrinsic+json": {
              "type": "string"
            }
          },
          "metadata": {},
          "execution_count": 2
        }
      ]
    },
    {
      "cell_type": "code",
      "source": [
        "name=input('enter your name')\n",
        "print(name)"
      ],
      "metadata": {
        "colab": {
          "base_uri": "https://localhost:8080/"
        },
        "id": "QDPcd9JHHthD",
        "outputId": "7ea356d0-2d7a-478a-b611-17a86489f43a"
      },
      "execution_count": null,
      "outputs": [
        {
          "output_type": "stream",
          "name": "stdout",
          "text": [
            "enter your namekrish\n",
            "krish\n"
          ]
        }
      ]
    },
    {
      "cell_type": "code",
      "source": [
        "city_name='nagpur'\n",
        "print(f\"city name: {city_name}\")\n",
        "city_name='nag'\n",
        "print(f\"city name: {city_name}\")\n",
        "carbon_footprint = 500.99\n",
        "print(f\"carbon footprint: {carbon_footprint} kg CO2\")\n",
        "is_sustainable = carbon_footprint<400\n",
        "print(f\"is the city sustainable? {is_sustainable}\")\n",
        "weekly_temp = [2,4,5,3,7,6,8]\n",
        "print(f\"Weekly temperatures: {weekly_temp}\")\n",
        "print(3 in weekly_temp)"
      ],
      "metadata": {
        "colab": {
          "base_uri": "https://localhost:8080/"
        },
        "id": "EQ3rwQLhJA8I",
        "outputId": "7ad96887-4123-463c-a13e-933ad8fd09d9"
      },
      "execution_count": null,
      "outputs": [
        {
          "output_type": "stream",
          "name": "stdout",
          "text": [
            "city name: nagpur\n",
            "city name: nag\n",
            "carbon footprint: 500.99 kg CO2\n",
            "is the city sustainable? False\n",
            "Weekly temperatures: [2, 4, 5, 3, 7, 6, 8]\n",
            "True\n"
          ]
        }
      ]
    },
    {
      "cell_type": "code",
      "source": [
        "city_data = {\n",
        "    \"name\": \"nagpur\",\n",
        "    \"temperature\": 25,\n",
        "    \"carbon_footprint\": 500.99,\n",
        "    \"is_sustainable\": False,\n",
        "}\n",
        "print(f\"City data: {city_data}\")"
      ],
      "metadata": {
        "colab": {
          "base_uri": "https://localhost:8080/"
        },
        "id": "3CgqAiydMGic",
        "outputId": "c579b5a5-403a-4eb5-e4d5-b22a5a5aa501"
      },
      "execution_count": null,
      "outputs": [
        {
          "output_type": "stream",
          "name": "stdout",
          "text": [
            "City data: {'name': 'nagpur', 'temperature': 25, 'carbon_footprint': 500.99, 'is_sustainable': False}\n"
          ]
        }
      ]
    },
    {
      "cell_type": "code",
      "source": [
        "num = int(input('enter a number'))\n",
        "if num%2==0:\n",
        "    print('even')\n",
        "else:\n",
        "    print('odd')"
      ],
      "metadata": {
        "colab": {
          "base_uri": "https://localhost:8080/"
        },
        "id": "Y2-0nwHlVy7H",
        "outputId": "b93a204b-5466-4638-a757-4e1711813089"
      },
      "execution_count": null,
      "outputs": [
        {
          "output_type": "stream",
          "name": "stdout",
          "text": [
            "enter a number3\n",
            "odd\n"
          ]
        }
      ]
    },
    {
      "cell_type": "code",
      "source": [
        "climate_data = [\n",
        "    {\"city\": \"City A\", \"temperature\": 25, \"carbon_footprint\": 500},\n",
        "    {\"city\": \"City B\", \"temperature\": 30, \"carbon_footprint\": 350},\n",
        "    {\"city\": \"City C\", \"temperature\": 22, \"carbon_footprint\": 600},\n",
        "    {\"city\": \"City D\", \"temperature\": 15, \"carbon_footprint\": 200},\n",
        "    {\"city\": \"City E\", \"temperature\": 28, \"carbon_footprint\": 450},\n",
        "]\n",
        "high_temp_threshold=26\n",
        "high_temp_cities = [city for city in climate_data if city[\"temperature\"] > high_temp_threshold]\n",
        "print(\"cities with high temperatures (>26 C):\")\n",
        "for city in high_temp_cities:\n",
        "    print(f\"{city['city']} - Temperature: {city['temperature']}°C\")"
      ],
      "metadata": {
        "colab": {
          "base_uri": "https://localhost:8080/"
        },
        "id": "uWV3Z9UtWZ5N",
        "outputId": "8afabae8-d99a-4fd9-da3f-47a7d8a695a8"
      },
      "execution_count": null,
      "outputs": [
        {
          "output_type": "stream",
          "name": "stdout",
          "text": [
            "cities with high temperatures (>26 C):\n",
            "City B - Temperature: 30°C\n",
            "City E - Temperature: 28°C\n"
          ]
        }
      ]
    },
    {
      "cell_type": "markdown",
      "source": [
        "15 Jan 2025"
      ],
      "metadata": {
        "id": "tnuPdanYHFIw"
      }
    },
    {
      "cell_type": "code",
      "source": [
        "def greet(name):\n",
        "  print(\"hello\",name)\n",
        "greet(\"krish\")"
      ],
      "metadata": {
        "colab": {
          "base_uri": "https://localhost:8080/"
        },
        "id": "gMLD5nvLHIEG",
        "outputId": "28693faf-51d6-42cf-8b3b-0e6a86d2e768"
      },
      "execution_count": null,
      "outputs": [
        {
          "output_type": "stream",
          "name": "stdout",
          "text": [
            "hello krish\n"
          ]
        }
      ]
    },
    {
      "cell_type": "code",
      "source": [
        "def l(input_list):\n",
        "  print(len(input_list))\n",
        "list=[3,4,5']\n",
        "l(my_list)"
      ],
      "metadata": {
        "colab": {
          "base_uri": "https://localhost:8080/"
        },
        "id": "ngDDQ7osHp23",
        "outputId": "659eec3c-9604-4cd5-806e-751b20610cef"
      },
      "execution_count": null,
      "outputs": [
        {
          "output_type": "stream",
          "name": "stderr",
          "text": [
            "ERROR:root:Internal Python error in the inspect module.\n",
            "Below is the traceback from this internal error.\n",
            "\n",
            "ERROR:root:Internal Python error in the inspect module.\n",
            "Below is the traceback from this internal error.\n",
            "\n"
          ]
        }
      ]
    },
    {
      "cell_type": "code",
      "source": [
        "def add(a,b):\n",
        "  c=a+b\n",
        "  return c\n",
        "\n"
      ],
      "metadata": {
        "id": "EzZAZ--DJmVH"
      },
      "execution_count": null,
      "outputs": []
    },
    {
      "cell_type": "code",
      "source": [
        "leap = lambda year:(year%4==0 and year%100!=0) or (year%400==0)\n",
        "year=int(input('enter a year'))\n",
        "if leap(year):\n",
        "  print('leap year')\n",
        "else:\n",
        "  print('not a leap year')"
      ],
      "metadata": {
        "colab": {
          "base_uri": "https://localhost:8080/"
        },
        "id": "g0HPZ7Q5LYKb",
        "outputId": "16467fd1-a7d6-46de-c6b1-129582b0604f"
      },
      "execution_count": null,
      "outputs": [
        {
          "output_type": "stream",
          "name": "stdout",
          "text": [
            "enter a year2024\n",
            "leap year\n"
          ]
        }
      ]
    },
    {
      "cell_type": "code",
      "source": [
        "climate_data = [\n",
        "    {\"city\": \"City A\", \"temperature\": 25, \"carbon_footprint\": 500},\n",
        "    {\"city\": \"City B\", \"temperature\": 30, \"carbon_footprint\": 350},\n",
        "    {\"city\": \"City C\", \"temperature\": 22, \"carbon_footprint\": 600},\n",
        "    {\"city\": \"City D\", \"temperature\": 15, \"carbon_footprint\": 200},\n",
        "    {\"city\": \"City E\", \"temperature\": 28, \"carbon_footprint\": 450},\n",
        "]\n",
        "total_carbon=0\n",
        "for city in climate_data:\n",
        "  total_carbon+=city['carbon_footprint']\n",
        "print(total_carbon)\n",
        "average=total_carbon/len(climate_data)\n",
        "print(average)"
      ],
      "metadata": {
        "colab": {
          "base_uri": "https://localhost:8080/"
        },
        "id": "BWsH00XXMx34",
        "outputId": "cb8d56c0-2e81-4282-e109-003fbde31737"
      },
      "execution_count": null,
      "outputs": [
        {
          "output_type": "stream",
          "name": "stdout",
          "text": [
            "2100\n",
            "420.0\n"
          ]
        }
      ]
    },
    {
      "cell_type": "code",
      "source": [
        "sustainability_threshold=400\n",
        "sustainable_cities = list(filter(lambda city: city[\"carbon_footprint\"] < sustainability_threshold, climate_data))\n",
        "print(\"\\nSustainable Cities(carbon footprint<400 kg CO2):\")\n",
        "for city in sustainable_cities:\n",
        "    print(f\"{city['city']} - Carbon Footprint: {city['carbon_footprint']} kg CO2\")"
      ],
      "metadata": {
        "colab": {
          "base_uri": "https://localhost:8080/"
        },
        "id": "p4eKsidAO002",
        "outputId": "57286cc5-5ba8-48ce-f16f-17406da7febc"
      },
      "execution_count": null,
      "outputs": [
        {
          "output_type": "stream",
          "name": "stdout",
          "text": [
            "\n",
            "Sustainable Cities(carbon footprint<400 kg CO2):\n",
            "City B - Carbon Footprint: 350 kg CO2\n",
            "City D - Carbon Footprint: 200 kg CO2\n"
          ]
        }
      ]
    },
    {
      "cell_type": "code",
      "source": [
        "highest_footprint_city = max(climate_data, key=lambda city: city[\"carbon_footprint\"])\n",
        "print(\"\\nCity with the Highest Carbon Footprint:\")\n",
        "print(f\"{highest_footprint_city['city']} - {highest_footprint_city['carbon_footprint']} kg CO2\")"
      ],
      "metadata": {
        "colab": {
          "base_uri": "https://localhost:8080/"
        },
        "id": "Fy8f493EQCry",
        "outputId": "8ef6555d-18e1-4288-eedb-70e6d72e62db"
      },
      "execution_count": null,
      "outputs": [
        {
          "output_type": "stream",
          "name": "stdout",
          "text": [
            "\n",
            "City with the Highest Carbon Footprint:\n",
            "City C - 600 kg CO2\n"
          ]
        }
      ]
    }
  ]
}